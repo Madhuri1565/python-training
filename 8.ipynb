{
 "cells": [
  {
   "cell_type": "code",
   "execution_count": 3,
   "metadata": {},
   "outputs": [
    {
     "name": "stdout",
     "output_type": "stream",
     "text": [
      "Target item is found\n"
     ]
    }
   ],
   "source": [
    "def linearSearch(a,tarItem):\n",
    "    flag=0\n",
    "    for i in range(len(a)):\n",
    "        if a[i]==tarItem:\n",
    "            flag=1\n",
    "            break\n",
    "    if(flag!=0):\n",
    "        print(\"Target item is found\")\n",
    "    else:\n",
    "        print(\"Target item is not found\")\n",
    "a=[1,2,3,4,5,6,7,8]\n",
    "linearSearch(a,6)"
   ]
  },
  {
   "cell_type": "code",
   "execution_count": 2,
   "metadata": {},
   "outputs": [
    {
     "name": "stdout",
     "output_type": "stream",
     "text": [
      "2\n"
     ]
    }
   ],
   "source": [
    "def linearSearchDuplicate(a,tarItem):\n",
    "    flag=0\n",
    "    for i in range(len(a)):\n",
    "        if a[i]==tarItem:\n",
    "            flag=flag+1\n",
    "    print(flag)\n",
    "a=[9,6,1,5,6,7,9]\n",
    "linearSearchDuplicate(a,9)"
   ]
  },
  {
   "cell_type": "code",
   "execution_count": 12,
   "metadata": {},
   "outputs": [
    {
     "name": "stdout",
     "output_type": "stream",
     "text": [
      "1 ! ! 4 ! ! ! ! ! 7 ! ! ! ! ! ! ! ! "
     ]
    }
   ],
   "source": [
    "def linearExample1(a,tarItem):\n",
    "    flag=0\n",
    "    for i in range(len(a)):\n",
    "        if a[i]==tarItem:\n",
    "            print(i,end=\" \")\n",
    "            for i in range(i+1):\n",
    "                print(\"!\",end=\" \")\n",
    "a=[1,5,6,9,5,15,12,5]\n",
    "linearExample1(a,5)"
   ]
  },
  {
   "cell_type": "code",
   "execution_count": 6,
   "metadata": {},
   "outputs": [
    {
     "name": "stdout",
     "output_type": "stream",
     "text": [
      "60\n"
     ]
    }
   ],
   "source": [
    "def multiple(a):\n",
    "    sum=0\n",
    "    for i in range(len(a)):\n",
    "        if(a[i]%3==0 and a[i]%5==0):\n",
    "            sum=sum+a[i]\n",
    "    print(sum)\n",
    "a=[15,12,9,18,36,45]\n",
    "multiple(a)"
   ]
  },
  {
   "cell_type": "code",
   "execution_count": 16,
   "metadata": {},
   "outputs": [
    {
     "name": "stdout",
     "output_type": "stream",
     "text": [
      "1 3 8 15 5 "
     ]
    }
   ],
   "source": [
    "def linearFormattedOutput(a):\n",
    "    for i in range(len(a)):\n",
    "        if(i==0 or i==len(a)-1):\n",
    "            print(a[i],end=\" \")\n",
    "        else:\n",
    "            print(a[i-1]*a[i+1],end=\" \")\n",
    "a=[1,2,3,4,5]\n",
    "linearFormattedOutput(a)"
   ]
  },
  {
   "cell_type": "code",
   "execution_count": 17,
   "metadata": {},
   "outputs": [
    {
     "name": "stdout",
     "output_type": "stream",
     "text": [
      "1 9 19 22 "
     ]
    }
   ],
   "source": [
    "def linearFormattedOutput(a):\n",
    "    for i in range(len(a)):\n",
    "        if(i==0 or i==len(a)-1):\n",
    "            print(a[i],end=\" \")\n",
    "        elif(a[i-1]%2==0 and a[i+1]%2==0):\n",
    "            print(a[i],end=\" \")\n",
    "a=[1,6,9,4,16,19,22]\n",
    "linearFormattedOutput(a)\n",
    "        "
   ]
  },
  {
   "cell_type": "code",
   "execution_count": 3,
   "metadata": {},
   "outputs": [
    {
     "name": "stdout",
     "output_type": "stream",
     "text": [
      "enter a number14569\n",
      "[1, 4, 5, 6, 9]\n"
     ]
    }
   ],
   "source": [
    "def linear(n):\n",
    "    lst=[]\n",
    "    while n!=0:\n",
    "        r=n%10\n",
    "        lst.append(r)\n",
    "        n=n//10\n",
    "    lst.reverse()\n",
    "    print(lst)\n",
    "n=int(input(\"enter a number\"))\n",
    "linear(n)\n",
    "\n",
    "        "
   ]
  },
  {
   "cell_type": "code",
   "execution_count": 2,
   "metadata": {},
   "outputs": [
    {
     "name": "stdout",
     "output_type": "stream",
     "text": [
      "14569"
     ]
    }
   ],
   "source": [
    "def linear(a):\n",
    "    for i in range(len(a)):\n",
    "        print(a[i],end=\"\")\n",
    "a=[1,4,5,6,9]\n",
    "linear(a)\n"
   ]
  },
  {
   "cell_type": "code",
   "execution_count": 27,
   "metadata": {},
   "outputs": [
    {
     "name": "stdout",
     "output_type": "stream",
     "text": [
      "46"
     ]
    }
   ],
   "source": [
    "def linear(a):\n",
    "    for i in range(len(a)):\n",
    "        if(a[i]%2==0):\n",
    "            print(a[i],end=\"\")\n",
    "a=[1,4,5,6,9]            \n",
    "linear(a)"
   ]
  },
  {
   "cell_type": "code",
   "execution_count": 2,
   "metadata": {},
   "outputs": [
    {
     "name": "stdout",
     "output_type": "stream",
     "text": [
      "enter a number14569\n",
      "[4, 6]\n"
     ]
    }
   ],
   "source": [
    "def linear(n):\n",
    "    lst=[]\n",
    "    while n!=0:\n",
    "        r=n%10\n",
    "        if r%2==0:\n",
    "            lst.append(r)\n",
    "        n=n//10\n",
    "    lst.reverse()\n",
    "    print(lst)\n",
    "n=int(input(\"enter a number\"))\n",
    "linear(n)"
   ]
  }
 ],
 "metadata": {
  "kernelspec": {
   "display_name": "Python 3",
   "language": "python",
   "name": "python3"
  }
 },
 "nbformat": 4,
 "nbformat_minor": 2
}
