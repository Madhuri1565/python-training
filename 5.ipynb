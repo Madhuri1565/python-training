{
 "cells": [
  {
   "cell_type": "code",
   "execution_count": null,
   "metadata": {},
   "outputs": [],
   "source": [
    "##loop statements"
   ]
  },
  {
   "cell_type": "code",
   "execution_count": 1,
   "metadata": {},
   "outputs": [
    {
     "name": "stdout",
     "output_type": "stream",
     "text": [
      "1\n",
      "2\n",
      "3\n",
      "4\n",
      "5\n",
      "6\n",
      "7\n",
      "8\n",
      "9\n",
      "10\n"
     ]
    }
   ],
   "source": [
    "n=1\n",
    "while(n<=10):\n",
    "    print(n)\n",
    "    n=n+1\n",
    " "
   ]
  },
  {
   "cell_type": "code",
   "execution_count": 2,
   "metadata": {},
   "outputs": [
    {
     "name": "stdout",
     "output_type": "stream",
     "text": [
      "10\n",
      "9\n",
      "8\n",
      "7\n",
      "6\n",
      "5\n",
      "4\n",
      "3\n",
      "2\n",
      "1\n"
     ]
    }
   ],
   "source": [
    "n=10\n",
    "while(n>=1):\n",
    "    print(n)\n",
    "    n=n-1"
   ]
  },
  {
   "cell_type": "code",
   "execution_count": 24,
   "metadata": {},
   "outputs": [
    {
     "name": "stdout",
     "output_type": "stream",
     "text": [
      "2\n",
      "4\n",
      "6\n",
      "8\n",
      "10\n",
      "12\n",
      "14\n",
      "16\n",
      "18\n",
      "20\n",
      "22\n",
      "24\n",
      "26\n",
      "28\n",
      "30\n",
      "32\n",
      "34\n",
      "36\n",
      "38\n",
      "40\n",
      "42\n",
      "44\n",
      "46\n",
      "48\n",
      "50\n",
      "52\n",
      "54\n",
      "56\n",
      "58\n",
      "60\n",
      "62\n",
      "64\n",
      "66\n",
      "68\n",
      "70\n",
      "72\n",
      "74\n",
      "76\n",
      "78\n",
      "80\n",
      "82\n",
      "84\n",
      "86\n",
      "88\n",
      "90\n",
      "92\n",
      "94\n",
      "96\n",
      "98\n",
      "100\n"
     ]
    }
   ],
   "source": [
    "n=1\n",
    "while(n<=100):\n",
    "    if(n%2==0): \n",
    "         print(n)\n",
    "    n=n+1\n"
   ]
  },
  {
   "cell_type": "code",
   "execution_count": 22,
   "metadata": {},
   "outputs": [
    {
     "name": "stdout",
     "output_type": "stream",
     "text": [
      "-22\n",
      "-23\n",
      "-24\n",
      "-25\n",
      "-26\n",
      "-27\n",
      "-28\n",
      "-29\n",
      "-30\n",
      "-31\n",
      "-32\n",
      "-33\n",
      "-34\n",
      "-35\n",
      "-36\n",
      "-37\n",
      "-38\n",
      "-39\n",
      "-40\n",
      "-41\n",
      "-42\n",
      "-43\n",
      "-44\n",
      "-45\n"
     ]
    }
   ],
   "source": [
    "n=-22\n",
    "while(n>=-45):\n",
    "    print(n)\n",
    "    n=n-1"
   ]
  },
  {
   "cell_type": "code",
   "execution_count": 2,
   "metadata": {},
   "outputs": [
    {
     "name": "stdout",
     "output_type": "stream",
     "text": [
      "2550\n"
     ]
    }
   ],
   "source": [
    "n=1\n",
    "sum=0\n",
    "while(n<=100):\n",
    "    if(n%2==0):\n",
    "        sum=sum+n\n",
    "    n=n+1\n",
    "print(sum)"
   ]
  },
  {
   "cell_type": "code",
   "execution_count": 1,
   "metadata": {},
   "outputs": [
    {
     "name": "stdout",
     "output_type": "stream",
     "text": [
      "enter lower limit1\n",
      "enter upper limit100\n",
      "2450\n"
     ]
    }
   ],
   "source": [
    "x=int(input(\"enter lower limit\"))\n",
    "y=int(input(\"enter upper limit\"))\n",
    "sum=0\n",
    "while(x!=y):\n",
    "    if(x%2==0):\n",
    "        sum=sum+x\n",
    "    x=x+1\n",
    "print(sum)        "
   ]
  },
  {
   "cell_type": "code",
   "execution_count": 3,
   "metadata": {},
   "outputs": [
    {
     "name": "stdout",
     "output_type": "stream",
     "text": [
      "enter the digit145\n",
      "5\n",
      "4\n",
      "1\n"
     ]
    }
   ],
   "source": [
    "x=int(input(\"enter the digit\"))\n",
    "while(x!=0):\n",
    "    r=x%10\n",
    "    print(r)\n",
    "    x=x//10"
   ]
  },
  {
   "cell_type": "code",
   "execution_count": 7,
   "metadata": {},
   "outputs": [
    {
     "name": "stdout",
     "output_type": "stream",
     "text": [
      "enter the digit142\n",
      "2\n",
      "4\n",
      "1\n",
      "6\n"
     ]
    }
   ],
   "source": [
    "x=int(input(\"enter the digit\"))\n",
    "sum=0\n",
    "while(x!=0):\n",
    "    r=x%10\n",
    "    print(r)\n",
    "    x=x//10\n",
    "    if(r%2==0):\n",
    "        sum=sum+r\n",
    "print(sum)\n"
   ]
  },
  {
   "cell_type": "code",
   "execution_count": 2,
   "metadata": {},
   "outputs": [
    {
     "name": "stdout",
     "output_type": "stream",
     "text": [
      "enter the digit145\n",
      "five four one "
     ]
    }
   ],
   "source": [
    "x=int(input(\"enter the digit\"))\n",
    "while(x!=0):\n",
    "    r=x%10\n",
    "    if(r==0):\n",
    "        print(\"zero\",end=' ')\n",
    "    elif(r==1):\n",
    "        print(\"one\",end=' ')\n",
    "    elif(r==2):\n",
    "        print(\"two\",end=' ')\n",
    "    elif(r==3):\n",
    "        print(\"three\",end=' ')\n",
    "    elif(r==4):\n",
    "        print(\"four\",end=' ')  \n",
    "    elif(r==5):\n",
    "        print(\"five\",end=' ')\n",
    "    elif(r==6):\n",
    "        print(\"six\",end=' ')\n",
    "    elif(r==7):\n",
    "        print(\"seven\",end=' ')\n",
    "    elif(r==8):\n",
    "        print(\"eight\",end=' ')\n",
    "    elif(r==9):\n",
    "        print(\"nine\",end=' ')\n",
    "    \n",
    "    \n",
    "    x=x//10\n",
    "    "
   ]
  },
  {
   "cell_type": "code",
   "execution_count": 3,
   "metadata": {},
   "outputs": [
    {
     "name": "stdout",
     "output_type": "stream",
     "text": [
      "enter the number6\n",
      "enter the lower limit60\n",
      "enter the higher limit65\n",
      "5\n"
     ]
    }
   ],
   "source": [
    "x=int(input(\"enter the number\"))\n",
    "l1=int(input(\"enter the lower limit\"))\n",
    "l2=int(input(\"enter the higher limit\"))\n",
    "cnt=0\n",
    "while(l1!=l2):\n",
    "    buffer=l1\n",
    "    while(l1!=0):\n",
    "        r=l1%10\n",
    "        if(r==x):\n",
    "            cnt=cnt+1\n",
    "        l1=l1//10 \n",
    "    l1=buffer\n",
    "    l1=l1+1\n",
    "\n",
    "print(cnt)    \n"
   ]
  }
 ],
 "metadata": {
  "kernelspec": {
   "display_name": "Python 3",
   "language": "python",
   "name": "python3"
  },
  "language_info": {
   "codemirror_mode": {
    "name": "ipython",
    "version": 3
   },
   "file_extension": ".py",
   "mimetype": "text/x-python",
   "name": "python",
   "nbconvert_exporter": "python",
   "pygments_lexer": "ipython3",
   "version": "3.7.3"
  }
 },
 "nbformat": 4,
 "nbformat_minor": 2
}
